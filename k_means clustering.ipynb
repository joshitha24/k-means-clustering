{
 "cells": [
  {
   "cell_type": "code",
   "execution_count": 11,
   "id": "38fa7852",
   "metadata": {},
   "outputs": [],
   "source": [
    "import pandas as pd\n",
    "import numpy as np\n",
    "import matplotlib.pyplot as plt\n",
    "from sklearn.preprocessing import StandardScaler\n",
    "from sklearn.decomposition import PCA\n",
    "from sklearn.cluster import KMeans\n",
    "from sklearn.metrics import silhouette_score"
   ]
  },
  {
   "cell_type": "code",
   "execution_count": 12,
   "id": "35c8f6cc",
   "metadata": {},
   "outputs": [
    {
     "data": {
      "text/html": [
       "<div>\n",
       "<style scoped>\n",
       "    .dataframe tbody tr th:only-of-type {\n",
       "        vertical-align: middle;\n",
       "    }\n",
       "\n",
       "    .dataframe tbody tr th {\n",
       "        vertical-align: top;\n",
       "    }\n",
       "\n",
       "    .dataframe thead th {\n",
       "        text-align: right;\n",
       "    }\n",
       "</style>\n",
       "<table border=\"1\" class=\"dataframe\">\n",
       "  <thead>\n",
       "    <tr style=\"text-align: right;\">\n",
       "      <th></th>\n",
       "      <th>CustomerID</th>\n",
       "      <th>Gender</th>\n",
       "      <th>Age</th>\n",
       "      <th>Annual Income (k$)</th>\n",
       "      <th>Spending Score (1-100)</th>\n",
       "    </tr>\n",
       "  </thead>\n",
       "  <tbody>\n",
       "    <tr>\n",
       "      <th>0</th>\n",
       "      <td>1</td>\n",
       "      <td>Male</td>\n",
       "      <td>19</td>\n",
       "      <td>15</td>\n",
       "      <td>39</td>\n",
       "    </tr>\n",
       "    <tr>\n",
       "      <th>1</th>\n",
       "      <td>2</td>\n",
       "      <td>Male</td>\n",
       "      <td>21</td>\n",
       "      <td>15</td>\n",
       "      <td>81</td>\n",
       "    </tr>\n",
       "    <tr>\n",
       "      <th>2</th>\n",
       "      <td>3</td>\n",
       "      <td>Female</td>\n",
       "      <td>20</td>\n",
       "      <td>16</td>\n",
       "      <td>6</td>\n",
       "    </tr>\n",
       "    <tr>\n",
       "      <th>3</th>\n",
       "      <td>4</td>\n",
       "      <td>Female</td>\n",
       "      <td>23</td>\n",
       "      <td>16</td>\n",
       "      <td>77</td>\n",
       "    </tr>\n",
       "    <tr>\n",
       "      <th>4</th>\n",
       "      <td>5</td>\n",
       "      <td>Female</td>\n",
       "      <td>31</td>\n",
       "      <td>17</td>\n",
       "      <td>40</td>\n",
       "    </tr>\n",
       "    <tr>\n",
       "      <th>...</th>\n",
       "      <td>...</td>\n",
       "      <td>...</td>\n",
       "      <td>...</td>\n",
       "      <td>...</td>\n",
       "      <td>...</td>\n",
       "    </tr>\n",
       "    <tr>\n",
       "      <th>195</th>\n",
       "      <td>196</td>\n",
       "      <td>Female</td>\n",
       "      <td>35</td>\n",
       "      <td>120</td>\n",
       "      <td>79</td>\n",
       "    </tr>\n",
       "    <tr>\n",
       "      <th>196</th>\n",
       "      <td>197</td>\n",
       "      <td>Female</td>\n",
       "      <td>45</td>\n",
       "      <td>126</td>\n",
       "      <td>28</td>\n",
       "    </tr>\n",
       "    <tr>\n",
       "      <th>197</th>\n",
       "      <td>198</td>\n",
       "      <td>Male</td>\n",
       "      <td>32</td>\n",
       "      <td>126</td>\n",
       "      <td>74</td>\n",
       "    </tr>\n",
       "    <tr>\n",
       "      <th>198</th>\n",
       "      <td>199</td>\n",
       "      <td>Male</td>\n",
       "      <td>32</td>\n",
       "      <td>137</td>\n",
       "      <td>18</td>\n",
       "    </tr>\n",
       "    <tr>\n",
       "      <th>199</th>\n",
       "      <td>200</td>\n",
       "      <td>Male</td>\n",
       "      <td>30</td>\n",
       "      <td>137</td>\n",
       "      <td>83</td>\n",
       "    </tr>\n",
       "  </tbody>\n",
       "</table>\n",
       "<p>200 rows × 5 columns</p>\n",
       "</div>"
      ],
      "text/plain": [
       "     CustomerID  Gender  Age  Annual Income (k$)  Spending Score (1-100)\n",
       "0             1    Male   19                  15                      39\n",
       "1             2    Male   21                  15                      81\n",
       "2             3  Female   20                  16                       6\n",
       "3             4  Female   23                  16                      77\n",
       "4             5  Female   31                  17                      40\n",
       "..          ...     ...  ...                 ...                     ...\n",
       "195         196  Female   35                 120                      79\n",
       "196         197  Female   45                 126                      28\n",
       "197         198    Male   32                 126                      74\n",
       "198         199    Male   32                 137                      18\n",
       "199         200    Male   30                 137                      83\n",
       "\n",
       "[200 rows x 5 columns]"
      ]
     },
     "execution_count": 12,
     "metadata": {},
     "output_type": "execute_result"
    }
   ],
   "source": [
    "# Load your CSV file\n",
    "df = pd.read_csv(\"C:/Users/Joshitha/Desktop/NOTES/Mall_Customers.csv\")\n",
    "\n",
    "df\n"
   ]
  },
  {
   "cell_type": "code",
   "execution_count": 13,
   "id": "f0780c41",
   "metadata": {
    "scrolled": true
   },
   "outputs": [
    {
     "name": "stdout",
     "output_type": "stream",
     "text": [
      "CustomerID                0\n",
      "Gender                    0\n",
      "Age                       0\n",
      "Annual Income (k$)        0\n",
      "Spending Score (1-100)    0\n",
      "dtype: int64\n",
      "0\n",
      "CustomerID                 int64\n",
      "Gender                    object\n",
      "Age                        int64\n",
      "Annual Income (k$)         int64\n",
      "Spending Score (1-100)     int64\n",
      "dtype: object\n",
      "       CustomerID         Age  Annual Income (k$)  Spending Score (1-100)\n",
      "count  200.000000  200.000000          200.000000              200.000000\n",
      "mean   100.500000   38.850000           60.560000               50.200000\n",
      "std     57.879185   13.969007           26.264721               25.823522\n",
      "min      1.000000   18.000000           15.000000                1.000000\n",
      "25%     50.750000   28.750000           41.500000               34.750000\n",
      "50%    100.500000   36.000000           61.500000               50.000000\n",
      "75%    150.250000   49.000000           78.000000               73.000000\n",
      "max    200.000000   70.000000          137.000000               99.000000\n",
      "Index(['CustomerID', 'Gender', 'Age', 'Annual Income (k$)',\n",
      "       'Spending Score (1-100)'],\n",
      "      dtype='object')\n"
     ]
    }
   ],
   "source": [
    "# DATA CLEANING:\n",
    "\n",
    "# Step 1: Check missing values\n",
    "print(df.isnull().sum())\n",
    "\n",
    "# Step 2: Check duplicates\n",
    "print(df.duplicated().sum())\n",
    "\n",
    "# Step 3: Check data types\n",
    "print(df.dtypes)\n",
    "\n",
    "# Step 4: Quick describe to find strange numbers\n",
    "print(df.describe())\n",
    "\n",
    "# Step 5: See column names\n",
    "print(df.columns)"
   ]
  },
  {
   "cell_type": "code",
   "execution_count": 14,
   "id": "e4245d33",
   "metadata": {},
   "outputs": [
    {
     "data": {
      "image/png": "[encoded data removed]",
      "text/plain": [
       "<Figure size 864x288 with 3 Axes>"
      ]
     },
     "metadata": {
      "needs_background": "light"
     },
     "output_type": "display_data"
    }
   ],
   "source": [
    "# 3. Exploratory Data Analysis\n",
    "plt.figure(figsize=(12,4))\n",
    "for i, col in enumerate(['Age','Annual Income (k$)','Spending Score (1-100)']):\n",
    "    plt.subplot(1,3,i+1)\n",
    "    plt.hist(df[col], bins=20, edgecolor='k')\n",
    "    plt.title(col)\n",
    "plt.tight_layout()\n",
    "plt.show()\n"
   ]
  },
  {
   "cell_type": "code",
   "execution_count": 15,
   "id": "817d2272",
   "metadata": {},
   "outputs": [
    {
     "name": "stdout",
     "output_type": "stream",
     "text": [
      "Means: [-0. -0. -0.]\n",
      "Stds:  [1. 1. 1.]\n"
     ]
    },
    {
     "data": {
      "image/png": "[encoded data removed]",
      "text/plain": [
       "<Figure size 864x288 with 3 Axes>"
      ]
     },
     "metadata": {
      "needs_background": "light"
     },
     "output_type": "display_data"
    }
   ],
   "source": [
    "# 4. Preprocessing: select & scale features\n",
    "features = ['Age','Annual Income (k$)','Spending Score (1-100)']\n",
    "X = df[features].values\n",
    "\n",
    "scaler = StandardScaler()\n",
    "X_scaled = scaler.fit_transform(X)\n",
    "\n",
    "# verify zero mean and unit variance\n",
    "print(\"Means:\", np.round(X_scaled.mean(axis=0),2))\n",
    "print(\"Stds: \", np.round(X_scaled.std(axis=0),2))\n",
    "plt.figure(figsize=(12,4))\n",
    "for i, col in enumerate(features):\n",
    "    plt.subplot(1,3,i+1)\n",
    "    plt.hist(X_scaled[:,i], bins=20, edgecolor='k')\n",
    "    plt.title(f\"{col} (scaled)\")\n",
    "plt.tight_layout()\n",
    "plt.show()\n"
   ]
  },
  {
   "cell_type": "code",
   "execution_count": 33,
   "id": "34ffaa92",
   "metadata": {},
   "outputs": [],
   "source": [
    "# 5. PCA projection (for plotting clusters later)\n",
    "pca = PCA(n_components=2)\n",
    "X_pca = pca.fit_transform(X_scaled)\n"
   ]
  },
  {
   "cell_type": "code",
   "execution_count": 34,
   "id": "a4508cdd",
   "metadata": {},
   "outputs": [
    {
     "data": {
      "image/png": "[encoded data removed]",
      "text/plain": [
       "<Figure size 432x288 with 1 Axes>"
      ]
     },
     "metadata": {
      "needs_background": "light"
     },
     "output_type": "display_data"
    }
   ],
   "source": [
    "# 6. Elbow Method: inertia vs K\n",
    "inertia = []\n",
    "K_range = range(1,11)\n",
    "for k in K_range:\n",
    "    km = KMeans(n_clusters=k, random_state=42)\n",
    "    km.fit(X_scaled)\n",
    "    inertia.append(km.inertia_)\n",
    "\n",
    "plt.figure()\n",
    "plt.plot(K_range, inertia, 'o-')\n",
    "plt.xlabel('Number of clusters K')\n",
    "plt.ylabel('Inertia')\n",
    "plt.title('Elbow Method')\n",
    "plt.show()\n"
   ]
  },
  {
   "cell_type": "code",
   "execution_count": 35,
   "id": "78c66fd2",
   "metadata": {},
   "outputs": [
    {
     "data": {
      "image/png": "[encoded data removed]",
      "text/plain": [
       "<Figure size 432x288 with 1 Axes>"
      ]
     },
     "metadata": {
      "needs_background": "light"
     },
     "output_type": "display_data"
    }
   ],
   "source": [
    "# 7. Silhouette Analysis: score vs K\n",
    "sil_scores = []\n",
    "K_range = range(2,11)\n",
    "for k in K_range:\n",
    "    km = KMeans(n_clusters=k, random_state=42)\n",
    "    labels = km.fit_predict(X_scaled)\n",
    "    sil_scores.append(silhouette_score(X_scaled, labels))\n",
    "\n",
    "plt.figure()\n",
    "plt.plot(K_range, sil_scores, 'o-')\n",
    "plt.xlabel('Number of clusters K')\n",
    "plt.ylabel('Silhouette Score')\n",
    "plt.title('Silhouette Analysis')\n",
    "plt.show()\n"
   ]
  },
  {
   "cell_type": "code",
   "execution_count": 55,
   "id": "2ae5c930",
   "metadata": {},
   "outputs": [],
   "source": [
    "# 8. Final K-Means clustering (choose best_k from above, e.g. 4)\n",
    "best_k = 5\n",
    "km = KMeans(n_clusters=best_k, random_state=42)\n",
    "df['Cluster'] = km.fit_predict(X_scaled)\n",
    "df['PC1'], df['PC2'] = X_pca[:,0], X_pca[:,1]\n"
   ]
  },
  {
   "cell_type": "code",
   "execution_count": 56,
   "id": "6bbe0bf4",
   "metadata": {},
   "outputs": [
    {
     "data": {
      "image/png": "[encoded data removed]",
      "text/plain": [
       "<Figure size 432x360 with 1 Axes>"
      ]
     },
     "metadata": {
      "needs_background": "light"
     },
     "output_type": "display_data"
    }
   ],
   "source": [
    "# 9. Visualize clusters in PCA space\n",
    "plt.figure(figsize=(6,5))\n",
    "for c in range(best_k):\n",
    "    pts = df[df['Cluster']==c]\n",
    "    plt.scatter(pts['PC1'], pts['PC2'], s=50, label=f'Cluster {c}', alpha=0.7)\n",
    "plt.xlabel('PC1')\n",
    "plt.ylabel('PC2')\n",
    "plt.legend()\n",
    "plt.title(f'K={best_k} Clusters in PCA Space')\n",
    "plt.show()\n"
   ]
  },
  {
   "cell_type": "code",
   "execution_count": 57,
   "id": "92968e37",
   "metadata": {},
   "outputs": [
    {
     "name": "stdout",
     "output_type": "stream",
     "text": [
      "         Age  Annual Income (k$)  Spending Score (1-100)  Cluster\n",
      "0  55.275862           47.620690               41.706897        0\n",
      "1  32.875000           86.100000               81.525000        1\n",
      "2  25.769231           26.115385               74.846154        2\n",
      "3  26.733333           54.311111               40.911111        3\n",
      "4  44.387097           89.774194               18.483871        4\n"
     ]
    }
   ],
   "source": [
    "# 10. Profile clusters in original feature space\n",
    "centroids = scaler.inverse_transform(km.cluster_centers_)\n",
    "profile = pd.DataFrame(centroids, columns=features)\n",
    "profile['Cluster'] = range(best_k)\n",
    "print(profile)\n"
   ]
  },
  {
   "cell_type": "code",
   "execution_count": 60,
   "id": "325232b9",
   "metadata": {},
   "outputs": [
    {
     "name": "stdout",
     "output_type": "stream",
     "text": [
      "         Age  Annual Income (k$)  Spending Score (1-100)  Cluster  \\\n",
      "0  55.275862           47.620690               41.706897        0   \n",
      "1  32.875000           86.100000               81.525000        1   \n",
      "2  25.769231           26.115385               74.846154        2   \n",
      "3  26.733333           54.311111               40.911111        3   \n",
      "4  44.387097           89.774194               18.483871        4   \n",
      "\n",
      "                         Label  \\\n",
      "0     Mature Moderate-Spenders   \n",
      "1  Young Affluent Big Spenders   \n",
      "2    Young Budget Eager Buyers   \n",
      "3               Young Middlers   \n",
      "4           Established Savers   \n",
      "\n",
      "                                      Interpretation  \n",
      "0  Older customers with average income who spend ...  \n",
      "1  Relatively young, high earners who spend a lot...  \n",
      "2  Young folks on lower incomes, yet with high en...  \n",
      "3  Young adults with middle incomes but low–moder...  \n",
      "4  Older, high-income customers who spend very li...  \n"
     ]
    }
   ],
   "source": [
    "# 1. Define your labels and interpretations\n",
    "labels = {\n",
    "    0: \"Mature Moderate-Spenders\",\n",
    "    1: \"Young Affluent Big Spenders\",\n",
    "    2: \"Young Budget Eager Buyers\",\n",
    "    3: \"Young Middlers\",\n",
    "    4: \"Established Savers\"\n",
    "}\n",
    "\n",
    "interpretations = {\n",
    "    0: \"Older customers with average income who spend somewhat below the overall average.\",\n",
    "    1: \"Relatively young, high earners who spend a lot—your top-value customers.\",\n",
    "    2: \"Young folks on lower incomes, yet with high engagement/spending score.\",\n",
    "    3: \"Young adults with middle incomes but low–moderate spending.\",\n",
    "    4: \"Older, high-income customers who spend very little relative to their peers.\"\n",
    "}\n",
    "\n",
    "# 2. Build the profile DataFrame\n",
    "centroids = scaler.inverse_transform(km.cluster_centers_)\n",
    "profile = pd.DataFrame(centroids, columns=features)\n",
    "profile['Cluster'] = range(best_k)\n",
    "\n",
    "# 3. Map in the labels and interpretations\n",
    "profile['Label'] = profile['Cluster'].map(labels)\n",
    "profile['Interpretation'] = profile['Cluster'].map(interpretations)\n",
    "\n",
    "# 4. Display\n",
    "print(profile)\n"
   ]
  },
  {
   "cell_type": "code",
   "execution_count": null,
   "id": "d4b6abb4",
   "metadata": {},
   "outputs": [],
   "source": []
  }
 ],
 "metadata": {
  "kernelspec": {
   "display_name": "Python 3 (ipykernel)",
   "language": "python",
   "name": "python3"
  },
  "language_info": {
   "codemirror_mode": {
    "name": "ipython",
    "version": 3
   },
   "file_extension": ".py",
   "mimetype": "text/x-python",
   "name": "python",
   "nbconvert_exporter": "python",
   "pygments_lexer": "ipython3",
   "version": "3.9.12"
  }
 },
 "nbformat": 4,
 "nbformat_minor": 5
}
